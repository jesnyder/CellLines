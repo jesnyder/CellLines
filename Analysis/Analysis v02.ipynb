{
 "cells": [
  {
   "cell_type": "code",
   "execution_count": 1,
   "metadata": {
    "collapsed": true
   },
   "outputs": [],
   "source": [
    "import numpy as np; \n",
    "import os; "
   ]
  },
  {
   "cell_type": "code",
   "execution_count": 2,
   "metadata": {},
   "outputs": [],
   "source": [
    "# Make tables of CDC data for each cancer type, for each data type\n",
    "def parse_data_CDC(file, cancer_type, metric_index, title, percentage):\n",
    "    \n",
    "    # Build filename to look in the Data archive\n",
    "    filename = os.path.join(\"Data\", file)\n",
    "    \n",
    "    # Define local variables\n",
    "    data = []; cancer=[]; metric=[]; year=[]; all_races=[]; caucasian=[];african_american=[];asian=[];hispanic=[];native_american=[];\n",
    "    \n",
    "    # Open CDC files and read in all lines\n",
    "    f = open(filename,'r')\n",
    "    for line in f: data.append(line)\n",
    "    f.close()   \n",
    "    \n",
    "    # Parse data into variables\n",
    "    for i in range(len(data)):\n",
    "        x1,x2,x3,x4,x5,x6,x7,x8,x9 = data[i].split(\",\")  \n",
    "        \n",
    "        if x1 == cancer_type:\n",
    "            if x2 == metric_index:\n",
    "                year.append(int(x3)) \n",
    "                all_races.append(int(x4))\n",
    "                \n",
    "                # Calculate percentage if necessary. \n",
    "                if percentage == \"percentage\":\n",
    "                    year_sum = int(x5)+int(x6)+int(x7)+int(x8)+int(x9) \n",
    "                else:\n",
    "                    year_sum = 1; \n",
    "                    \n",
    "                caucasian.append(int(x5)/year_sum)\n",
    "                african_american.append(int(x6)/year_sum)\n",
    "                asian.append(int(x7)/year_sum) \n",
    "                hispanic.append(int(x8)/year_sum) \n",
    "                native_american.append(int(x9)/year_sum) \n",
    "    \n",
    "    # Build table of all percentages\n",
    "    table = np.array([year, caucasian, african_american, asian, hispanic, native_american])\n",
    "    table = np.transpose(table)\n",
    "    filename = os.path.join(\"Tables\", title)\n",
    "    \n",
    "    # Open file to clear contents, then write the table\n",
    "    open(filename, \"w\").close()\n",
    "    np.savetxt(filename, table, delimiter=\",\") \n",
    "        \n",
    "parse_data_CDC('v01_CDC.csv', '2', '3','Breast Cancer CDC Incidence by Count', 'count')\n",
    "parse_data_CDC('v01_CDC.csv', '2', '4','Breast Cancer CDC Morbidity by Count', 'count')\n",
    "parse_data_CDC('v01_CDC.csv', '3', '3','Prostate Cancer CDC Incidence by Count', 'count')\n",
    "parse_data_CDC('v01_CDC.csv', '3', '4','Prostate Cancer CDC Morbidity by Count', 'count')\n",
    "parse_data_CDC('v01_CDC.csv', '4', '3','Lung Cancer CDC Incidence by Count', 'count')\n",
    "parse_data_CDC('v01_CDC.csv', '4', '4','Lung Cancer CDC Morbidity by Count', 'count')\n",
    "parse_data_CDC('v01_CDC.csv', '2', '3','Breast Cancer CDC Incidence by Percentage', 'percentage')\n",
    "parse_data_CDC('v01_CDC.csv', '2', '4','Breast Cancer CDC Morbidity by Percentage', 'percentage')\n",
    "parse_data_CDC('v01_CDC.csv', '3', '3','Prostate Cancer CDC Incidence by Percentage', 'percentage')\n",
    "parse_data_CDC('v01_CDC.csv', '3', '4','Prostate Cancer CDC Morbidity by Percentage', 'percentage')\n",
    "parse_data_CDC('v01_CDC.csv', '4', '3','Lung Cancer CDC Incidence by Percentage', 'percentage')\n",
    "parse_data_CDC('v01_CDC.csv', '4', '4','Lung Cancer CDC Morbidity by Percentage', 'percentage')\n"
   ]
  },
  {
   "cell_type": "code",
   "execution_count": 3,
   "metadata": {
    "collapsed": true
   },
   "outputs": [],
   "source": [
    "# Make tables of the publications and patent data \n"
   ]
  },
  {
   "cell_type": "code",
   "execution_count": 4,
   "metadata": {},
   "outputs": [
    {
     "name": "stdout",
     "output_type": "stream",
     "text": [
      "4.156000000000000000e+03\n",
      "4.279000000000000000e+03\n",
      "4.614000000000000000e+03\n",
      "4.936000000000000000e+03\n",
      "5.068000000000000000e+03\n",
      "5.442000000000000000e+03\n",
      "5.719000000000000000e+03\n",
      "5.982000000000000000e+03\n",
      "6.392000000000000000e+03\n",
      "6.969000000000000000e+03\n",
      "6.969000000000000000e+03\n",
      "7.681000000000000000e+03\n",
      "8.021000000000000000e+03\n",
      "8.427000000000000000e+03\n",
      "8.914000000000000000e+03\n"
     ]
    }
   ],
   "source": [
    "def read_data_table(filename):\n",
    "    filename = os.path.join(\"Tables\", filename)\n",
    "    \n",
    "    data = []\n",
    "    f = open(filename,'r')\n",
    "    for line in f: data.append(line)\n",
    "    f.close()  \n",
    "    \n",
    "    for i in range(len(data)):\n",
    "        x1,x2,x3,x4,x5,x6 = data[i].split(\",\")  \n",
    "        print(x4) \n",
    "        \n",
    "read_data_table(\"Breast Cancer CDC Incidence by Count\")"
   ]
  }
 ],
 "metadata": {
  "kernelspec": {
   "display_name": "Python 3",
   "language": "python",
   "name": "python3"
  },
  "language_info": {
   "codemirror_mode": {
    "name": "ipython",
    "version": 3
   },
   "file_extension": ".py",
   "mimetype": "text/x-python",
   "name": "python",
   "nbconvert_exporter": "python",
   "pygments_lexer": "ipython3",
   "version": "3.6.3"
  }
 },
 "nbformat": 4,
 "nbformat_minor": 2
}
