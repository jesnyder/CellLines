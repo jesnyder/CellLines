{
 "cells": [
  {
   "cell_type": "code",
   "execution_count": 1,
   "metadata": {
    "collapsed": true
   },
   "outputs": [],
   "source": [
    "import matplotlib.pyplot as plt; \n",
    "import numpy as np; \n",
    "import csv;\n",
    "import os; "
   ]
  },
  {
   "cell_type": "code",
   "execution_count": 2,
   "metadata": {},
   "outputs": [],
   "source": [
    "ethnicity_list = [\"All races\", \"White\", \"Black\", \\\n",
    "                  \"Other (American Indian/AK Nativ\",  \\\n",
    "                  \"Other unspecified (1978-1991)\"]\n",
    "\n",
    "cancer_types_list = [\"Breast\", \"Prostate\", \"Lung and Bronchus\"]\n",
    "analysis_type = [\"Count\", \"Percentage\"]\n",
    "gender_types_list = [\"Male and female\", \"Male\", \"Female\"]\n",
    "\n",
    "SEER_Stat_files = [\"Morbidity\"]"
   ]
  },
  {
   "cell_type": "code",
   "execution_count": 3,
   "metadata": {},
   "outputs": [
    {
     "ename": "SyntaxError",
     "evalue": "EOL while scanning string literal (<ipython-input-3-91f398d8ce29>, line 49)",
     "output_type": "error",
     "traceback": [
      "\u001b[0;36m  File \u001b[0;32m\"<ipython-input-3-91f398d8ce29>\"\u001b[0;36m, line \u001b[0;32m49\u001b[0m\n\u001b[0;31m    title = (cancer_type + \" Cancer \" + file + \" \" + analysis_type + \" of \" + \" + gender_type)\u001b[0m\n\u001b[0m                                                                                              ^\u001b[0m\n\u001b[0;31mSyntaxError\u001b[0m\u001b[0;31m:\u001b[0m EOL while scanning string literal\n"
     ]
    }
   ],
   "source": [
    "# Make tables of CDC data for each cancer type, for each data type\n",
    "def parse_data_CDC(file, cancer_type, gender_type, ethnicity_list, analysis_type):\n",
    "    \n",
    "    # Build filename to look in the Data archive\n",
    "    filename = os.path.join(\"Data\", \"SEER_Stat\", file + \".csv\")\n",
    "    \n",
    "    data = []; x = []; \n",
    "    # Open CDC files and read in all lines\n",
    "    f = open(filename,'r')\n",
    "    for line in f: data.append(line)\n",
    "    f.close() \n",
    "    \n",
    "    # Parse data into variables\n",
    "    for i in range(6): x.append(0)\n",
    "    \n",
    "    # Build lists for each \n",
    "    year = []; all_races = []; white = []; black = []; asian = []; unspecified = []; \n",
    "    for i in range(len(data)):\n",
    "        x = data[i].split(\",\")    \n",
    "        if x[0] == cancer_type:\n",
    "            if x[2] == gender_type:\n",
    "                \n",
    "                # Remove parentheses from \"Other ...\n",
    "                check_ethnicity = list(x[3]); \n",
    "                if (check_ethnicity[-1] == \"e\" and check_ethnicity[-2] == \"v\"):\n",
    "                    x[3] = \"\".join(check_ethnicity[1:-1])  \n",
    "                \n",
    "                if x[1] != \"1969-2015\": \n",
    "                    x[1] = int(x[1]); x[-1] = int(x[-1])\n",
    "                    \n",
    "                    if analysis_type == \"Percentage\": \n",
    "                        if x[3] == \"All races\": \n",
    "                            annual_total = x[4];\n",
    "                            if annual_total == 0:\n",
    "                                annual_total = 1;\n",
    "                    else: annual_total = 1; \n",
    "                    \n",
    "                    x[-1] = x[-1]/annual_total;\n",
    "\n",
    "                    if x[3] == ethnicity_list[0]: all_races.append(x[-1]); year.append(x[1])\n",
    "                    if x[3] == ethnicity_list[1]: white.append(x[-1])\n",
    "                    if x[3] == ethnicity_list[2]: black.append(x[-1])\n",
    "                    if x[3] == ethnicity_list[3]: asian.append(x[-1])    \n",
    "                    if x[3] == ethnicity_list[4]: unspecified.append(x[-1])\n",
    "                    \n",
    "    # Build table of all percentages\n",
    "    table = np.array([year, white, black, asian, unspecified])\n",
    "    table = np.transpose(table)\n",
    "    title = (cancer_type + \" Cancer \" + file + \" \" + analysis_type + \" of \" + gender_type)\n",
    "    filename = os.path.join(\"Tables\", title + \".csv\")\n",
    "    \n",
    "    # Open file to clear contents, then write the table\n",
    "    open(filename, \"w\").close()\n",
    "    with open(filename, \"w\") as output:\n",
    "        writer = csv.writer(output, lineterminator='\\n')\n",
    "        writer.writerows(table)\n",
    "    \n",
    "    \n",
    "        \n",
    "    return(year, white, black, asian, unspecified, title)\n",
    "    "
   ]
  },
  {
   "cell_type": "code",
   "execution_count": null,
   "metadata": {},
   "outputs": [],
   "source": [
    "# Make tables of CDC data for each cancer type, for each data type\n",
    "def scatter_plot(year, white, black, asian, unspecified, title, plot_number):\n",
    "    ax = fig.add_subplot(plot_number);\n",
    "    \n",
    "    plt.scatter(year,white, label = \"Caucasian\")\n",
    "    plt.scatter(year,black, label = \"African American\")\n",
    "    plt.scatter(year,asian, label = \"Asian and Native American\")\n",
    "    plt.scatter(year,unspecified, label = \"Unspecified\")\n",
    "    plt.title(title)\n",
    "    plt.legend(loc='upper left')\n",
    "    "
   ]
  },
  {
   "cell_type": "code",
   "execution_count": null,
   "metadata": {},
   "outputs": [],
   "source": [
    "\n",
    "for i in range(len(cancer_types_list)):\n",
    "    \n",
    "    box_size = 7; \n",
    "    fig = plt.figure(1.5, figsize=(3*box_size, 2*box_size)); \n",
    "    plot_number = 230;\n",
    "\n",
    "    print(SEER_Stat_files[0] + \" \" + cancer_types_list[i])\n",
    "    \n",
    "    for j in range(len(analysis_type)):\n",
    "        for k in range(len(gender_types_list)):\n",
    "            year, white, black, asian, unspecified, title = \\\n",
    "            parse_data_CDC(SEER_Stat_files[0], cancer_types_list[i], \\\n",
    "            gender_types_list[k], ethnicity_list, analysis_type[j])\n",
    "            \n",
    "            plot_number = plot_number+1;\n",
    "            \n",
    "            scatter_plot(year, white, black, asian, unspecified, title, plot_number)\n",
    "    \n",
    "    saved_filename = os.path.join(\"Figures\", title + '.jpg')\n",
    "    plt.savefig(saved_filename, bbox_inches='tight') \n",
    "    plt.show()\n",
    "\n"
   ]
  },
  {
   "cell_type": "code",
   "execution_count": null,
   "metadata": {},
   "outputs": [],
   "source": [
    "\n",
    "\n"
   ]
  },
  {
   "cell_type": "code",
   "execution_count": null,
   "metadata": {},
   "outputs": [],
   "source": []
  }
 ],
 "metadata": {
  "kernelspec": {
   "display_name": "Python 3",
   "language": "python",
   "name": "python3"
  },
  "language_info": {
   "codemirror_mode": {
    "name": "ipython",
    "version": 3
   },
   "file_extension": ".py",
   "mimetype": "text/x-python",
   "name": "python",
   "nbconvert_exporter": "python",
   "pygments_lexer": "ipython3",
   "version": "3.6.3"
  }
 },
 "nbformat": 4,
 "nbformat_minor": 2
}
