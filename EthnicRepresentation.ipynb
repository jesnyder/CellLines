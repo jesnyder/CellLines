{
 "cells": [
  {
   "cell_type": "code",
   "execution_count": 2,
   "metadata": {},
   "outputs": [
    {
     "data": {
      "text/latex": [
       "\n",
       "echo \"# CellLines\" >> README.md\n",
       "git init\n",
       "git add README.md\n",
       "git commit -m \"first commit\"\n",
       "git remote add origin https://github.com/jesnyder/CellLines.git\n",
       "git push -u origin master"
      ],
      "text/plain": [
       "<IPython.core.display.Latex object>"
      ]
     },
     "metadata": {},
     "output_type": "display_data"
    }
   ],
   "source": [
    "%%latex\n",
    "\n",
    "echo \"# CellLines\" >> README.md\n",
    "git init\n",
    "git add README.md\n",
    "git commit -m \"first commit\"\n",
    "git remote add origin https://github.com/jesnyder/CellLines.git\n",
    "git push -u origin master\n"
   ]
  },
  {
   "cell_type": "code",
   "execution_count": 3,
   "metadata": {
    "collapsed": true
   },
   "outputs": [],
   "source": [
    "%matplotlib inline\n",
    "\n",
    "import pandas as pd\n",
    "import matplotlib.pyplot as plt\n",
    "import numpy as np\n",
    "import csv\n",
    "\n",
    "def csvread(n):\n",
    "    a = pd.read_csv(n) # Pandas read csv into DataFrame\n",
    "    a = np.array(a) #convert to NumPy array\n",
    "    return(a)\n",
    "\n",
    "CDC_BC_DC ='https://raw.githubusercontent.com/jesnyder/CellLines/master/Counts/BC/vBC_CDC_DC.csv';\n",
    "CDC_BC_IC = 'https://raw.githubusercontent.com/jesnyder/CellLines/master/Counts/BC/vBC_CDC_IC.csv';\n",
    "Pat_BC ='https://raw.githubusercontent.com/jesnyder/CellLines/master/Counts/BC/vBC_PatCount.csv';\n",
    "Pub_BC ='https://raw.githubusercontent.com/jesnyder/CellLines/master/Counts/BC/vBC_PubCount.csv';\n",
    "\n",
    "CDC_BC_DC = csvread(CDC_BC_DC); \n",
    "CDC_BC_IC = csvread(CDC_BC_IC); \n",
    "Pat_BC = csvread(Pat_BC); \n",
    "Pub_BC = csvread(Pub_BC); \n",
    "\n"
   ]
  },
  {
   "cell_type": "code",
   "execution_count": 4,
   "metadata": {},
   "outputs": [
    {
     "ename": "TypeError",
     "evalue": "unsupported operand type(s) for +: 'float' and 'str'",
     "output_type": "error",
     "traceback": [
      "\u001b[0;31m---------------------------------------------------------------------------\u001b[0m",
      "\u001b[0;31mTypeError\u001b[0m                                 Traceback (most recent call last)",
      "\u001b[0;32m<ipython-input-4-48cea14cfb6c>\u001b[0m in \u001b[0;36m<module>\u001b[0;34m()\u001b[0m\n\u001b[1;32m     25\u001b[0m \u001b[0;34m\u001b[0m\u001b[0m\n\u001b[1;32m     26\u001b[0m \u001b[0;34m\u001b[0m\u001b[0m\n\u001b[0;32m---> 27\u001b[0;31m \u001b[0mstackedbarperc\u001b[0m\u001b[0;34m(\u001b[0m\u001b[0mCDC_BC_IC\u001b[0m\u001b[0;34m,\u001b[0m\u001b[0;34m'CDC Breast Cancer Incidence Count'\u001b[0m\u001b[0;34m)\u001b[0m\u001b[0;34m\u001b[0m\u001b[0m\n\u001b[0m\u001b[1;32m     28\u001b[0m \u001b[0mstackedbarperc\u001b[0m\u001b[0;34m(\u001b[0m\u001b[0mCDC_BC_DC\u001b[0m\u001b[0;34m,\u001b[0m\u001b[0;34m'CDC Breast Cancer Death Count'\u001b[0m\u001b[0;34m)\u001b[0m\u001b[0;34m\u001b[0m\u001b[0m\n\u001b[1;32m     29\u001b[0m \u001b[0mstackedbarperc\u001b[0m\u001b[0;34m(\u001b[0m\u001b[0mPat_BC\u001b[0m\u001b[0;34m,\u001b[0m\u001b[0;34m'Patent Breast Cancer'\u001b[0m\u001b[0;34m)\u001b[0m\u001b[0;34m\u001b[0m\u001b[0m\n",
      "\u001b[0;32m<ipython-input-4-48cea14cfb6c>\u001b[0m in \u001b[0;36mstackedbarperc\u001b[0;34m(A, t)\u001b[0m\n\u001b[1;32m      3\u001b[0m \u001b[0;34m\u001b[0m\u001b[0m\n\u001b[1;32m      4\u001b[0m     \u001b[0;32mwhile\u001b[0m\u001b[0;34m(\u001b[0m\u001b[0mk\u001b[0m\u001b[0;34m<\u001b[0m\u001b[0mlen\u001b[0m\u001b[0;34m(\u001b[0m\u001b[0mx\u001b[0m\u001b[0;34m)\u001b[0m\u001b[0;34m)\u001b[0m\u001b[0;34m:\u001b[0m\u001b[0;34m\u001b[0m\u001b[0m\n\u001b[0;32m----> 5\u001b[0;31m         \u001b[0ma\u001b[0m \u001b[0;34m=\u001b[0m \u001b[0mnp\u001b[0m\u001b[0;34m.\u001b[0m\u001b[0msum\u001b[0m\u001b[0;34m(\u001b[0m\u001b[0mA\u001b[0m\u001b[0;34m[\u001b[0m\u001b[0mk\u001b[0m\u001b[0;34m,\u001b[0m\u001b[0;36m1\u001b[0m\u001b[0;34m:\u001b[0m\u001b[0;34m-\u001b[0m\u001b[0;36m1\u001b[0m\u001b[0;34m]\u001b[0m\u001b[0;34m)\u001b[0m\u001b[0;34m\u001b[0m\u001b[0m\n\u001b[0m\u001b[1;32m      6\u001b[0m         \u001b[0mj\u001b[0m\u001b[0;34m.\u001b[0m\u001b[0mappend\u001b[0m\u001b[0;34m(\u001b[0m\u001b[0ma\u001b[0m\u001b[0;34m)\u001b[0m\u001b[0;34m\u001b[0m\u001b[0m\n\u001b[1;32m      7\u001b[0m         \u001b[0mk\u001b[0m\u001b[0;34m=\u001b[0m\u001b[0mk\u001b[0m\u001b[0;34m+\u001b[0m\u001b[0;36m1\u001b[0m\u001b[0;34m;\u001b[0m\u001b[0;34m\u001b[0m\u001b[0m\n",
      "\u001b[0;32m~/anaconda3/lib/python3.6/site-packages/numpy/core/fromnumeric.py\u001b[0m in \u001b[0;36msum\u001b[0;34m(a, axis, dtype, out, keepdims)\u001b[0m\n\u001b[1;32m   1832\u001b[0m             \u001b[0;32mreturn\u001b[0m \u001b[0msum\u001b[0m\u001b[0;34m(\u001b[0m\u001b[0maxis\u001b[0m\u001b[0;34m=\u001b[0m\u001b[0maxis\u001b[0m\u001b[0;34m,\u001b[0m \u001b[0mdtype\u001b[0m\u001b[0;34m=\u001b[0m\u001b[0mdtype\u001b[0m\u001b[0;34m,\u001b[0m \u001b[0mout\u001b[0m\u001b[0;34m=\u001b[0m\u001b[0mout\u001b[0m\u001b[0;34m,\u001b[0m \u001b[0;34m**\u001b[0m\u001b[0mkwargs\u001b[0m\u001b[0;34m)\u001b[0m\u001b[0;34m\u001b[0m\u001b[0m\n\u001b[1;32m   1833\u001b[0m     return _methods._sum(a, axis=axis, dtype=dtype,\n\u001b[0;32m-> 1834\u001b[0;31m                          out=out, **kwargs)\n\u001b[0m\u001b[1;32m   1835\u001b[0m \u001b[0;34m\u001b[0m\u001b[0m\n\u001b[1;32m   1836\u001b[0m \u001b[0;34m\u001b[0m\u001b[0m\n",
      "\u001b[0;32m~/anaconda3/lib/python3.6/site-packages/numpy/core/_methods.py\u001b[0m in \u001b[0;36m_sum\u001b[0;34m(a, axis, dtype, out, keepdims)\u001b[0m\n\u001b[1;32m     30\u001b[0m \u001b[0;34m\u001b[0m\u001b[0m\n\u001b[1;32m     31\u001b[0m \u001b[0;32mdef\u001b[0m \u001b[0m_sum\u001b[0m\u001b[0;34m(\u001b[0m\u001b[0ma\u001b[0m\u001b[0;34m,\u001b[0m \u001b[0maxis\u001b[0m\u001b[0;34m=\u001b[0m\u001b[0;32mNone\u001b[0m\u001b[0;34m,\u001b[0m \u001b[0mdtype\u001b[0m\u001b[0;34m=\u001b[0m\u001b[0;32mNone\u001b[0m\u001b[0;34m,\u001b[0m \u001b[0mout\u001b[0m\u001b[0;34m=\u001b[0m\u001b[0;32mNone\u001b[0m\u001b[0;34m,\u001b[0m \u001b[0mkeepdims\u001b[0m\u001b[0;34m=\u001b[0m\u001b[0;32mFalse\u001b[0m\u001b[0;34m)\u001b[0m\u001b[0;34m:\u001b[0m\u001b[0;34m\u001b[0m\u001b[0m\n\u001b[0;32m---> 32\u001b[0;31m     \u001b[0;32mreturn\u001b[0m \u001b[0mumr_sum\u001b[0m\u001b[0;34m(\u001b[0m\u001b[0ma\u001b[0m\u001b[0;34m,\u001b[0m \u001b[0maxis\u001b[0m\u001b[0;34m,\u001b[0m \u001b[0mdtype\u001b[0m\u001b[0;34m,\u001b[0m \u001b[0mout\u001b[0m\u001b[0;34m,\u001b[0m \u001b[0mkeepdims\u001b[0m\u001b[0;34m)\u001b[0m\u001b[0;34m\u001b[0m\u001b[0m\n\u001b[0m\u001b[1;32m     33\u001b[0m \u001b[0;34m\u001b[0m\u001b[0m\n\u001b[1;32m     34\u001b[0m \u001b[0;32mdef\u001b[0m \u001b[0m_prod\u001b[0m\u001b[0;34m(\u001b[0m\u001b[0ma\u001b[0m\u001b[0;34m,\u001b[0m \u001b[0maxis\u001b[0m\u001b[0;34m=\u001b[0m\u001b[0;32mNone\u001b[0m\u001b[0;34m,\u001b[0m \u001b[0mdtype\u001b[0m\u001b[0;34m=\u001b[0m\u001b[0;32mNone\u001b[0m\u001b[0;34m,\u001b[0m \u001b[0mout\u001b[0m\u001b[0;34m=\u001b[0m\u001b[0;32mNone\u001b[0m\u001b[0;34m,\u001b[0m \u001b[0mkeepdims\u001b[0m\u001b[0;34m=\u001b[0m\u001b[0;32mFalse\u001b[0m\u001b[0;34m)\u001b[0m\u001b[0;34m:\u001b[0m\u001b[0;34m\u001b[0m\u001b[0m\n",
      "\u001b[0;31mTypeError\u001b[0m: unsupported operand type(s) for +: 'float' and 'str'"
     ]
    }
   ],
   "source": [
    "def stackedbarperc(A,t):\n",
    "    x = A[:,0]; i=1; width = 0.9; j = []; k=0; \n",
    "    \n",
    "    while(k<len(x)):\n",
    "        a = np.sum(A[k,1:-1])\n",
    "        j.append(a) \n",
    "        k=k+1;\n",
    "               \n",
    "    y = A[:,i]/j; p1 = plt.bar(x, y, width, yerr=1); z = y; i=i+1; \n",
    "    y = A[:,i]/j; p2 = plt.bar(x, y, width, bottom=z); z = z+y; i=i+1; \n",
    "    y = A[:,i]/j; p3 = plt.bar(x, y, width, bottom=z); z = z+y; i=i+1; \n",
    "    y = A[:,i]/j; p4 = plt.bar(x, y, width, bottom=z); z = z+y; i=i+1; \n",
    "    y = A[:,i]/j; p5 = plt.bar(x, y, width, bottom=z); z = z+y;\n",
    "   \n",
    "    fig = plt.gcf()\n",
    "    plt.xlabel('Year')\n",
    "    plt.ylabel(np.sum(j))\n",
    "    plt.yscale('log')\n",
    "    plt.title(t)\n",
    "    plt.legend()\n",
    "    plt.gcf()\n",
    "    t = 'Fig_'+t +'.jpg'\n",
    "    plt.savefig(t)\n",
    "    plt.show()\n",
    "    \n",
    "      \n",
    "stackedbarperc(CDC_BC_IC,'CDC Breast Cancer Incidence Count')\n",
    "stackedbarperc(CDC_BC_DC,'CDC Breast Cancer Death Count')\n",
    "stackedbarperc(Pat_BC,'Patent Breast Cancer')\n",
    "\n"
   ]
  },
  {
   "cell_type": "code",
   "execution_count": null,
   "metadata": {},
   "outputs": [],
   "source": [
    "def average(A,t):\n",
    "    x = A[:,0]; width = 0.35; j = []; k=0; \n",
    "    \n",
    "    while(k<len(x)):\n",
    "        a = np.sum(A[k,1:-1])\n",
    "        j.append(a) \n",
    "        k=k+1;\n",
    "    \n",
    "    i=1; k=[]; l=[]; m=[]; \n",
    "    while(i<6):\n",
    "        y = A[:,i]/j; \n",
    "        k.append(np.mean(y))\n",
    "        l.append(1-np.min(y)/np.mean(y))\n",
    "        print(l)\n",
    "        m.append(np.max(y)/np.mean(y)-1)\n",
    "        i=i+1\n",
    "    \n",
    "    r = list(range(1,len(k)+1)); \n",
    "    plt.errorbar(r, k, yerr=[l, l], fmt='--o')\n",
    "    plt.yscale('log')\n",
    "    plt.xlabel('Ethnicity')\n",
    "    plt.ylabel('Fraction')\n",
    "    \n",
    "\n",
    "average(CDC_BC_IC,'CDC Breast Cancer Incidence Count')\n",
    "average(Pat_BC,'Patent Breast Cancer')\n",
    "\n",
    "\n",
    "\n"
   ]
  }
 ],
 "metadata": {
  "kernelspec": {
   "display_name": "Python 3",
   "language": "python",
   "name": "python3"
  },
  "language_info": {
   "codemirror_mode": {
    "name": "ipython",
    "version": 3
   },
   "file_extension": ".py",
   "mimetype": "text/x-python",
   "name": "python",
   "nbconvert_exporter": "python",
   "pygments_lexer": "ipython3",
   "version": "3.6.3"
  }
 },
 "nbformat": 4,
 "nbformat_minor": 2
}
